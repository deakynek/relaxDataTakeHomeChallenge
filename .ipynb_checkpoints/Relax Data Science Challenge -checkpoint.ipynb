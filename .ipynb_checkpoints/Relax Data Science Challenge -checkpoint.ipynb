{
 "cells": [
  {
   "cell_type": "code",
   "execution_count": 2,
   "id": "47649737",
   "metadata": {},
   "outputs": [],
   "source": [
    "import pandas as pd\n",
    "import numpy as np\n",
    "import sklearn as sk\n",
    "import matplotlib.pyplot as plt\n",
    "from datetime import datetime\n",
    "from datetime import timedelta\n",
    "from IPython.display import clear_output"
   ]
  },
  {
   "cell_type": "code",
   "execution_count": 3,
   "id": "6060ef29",
   "metadata": {},
   "outputs": [],
   "source": [
    "userEngagement = pd.read_csv('./takehome_user_engagement.csv')"
   ]
  },
  {
   "cell_type": "code",
   "execution_count": 43,
   "id": "ff0d639a",
   "metadata": {},
   "outputs": [
    {
     "data": {
      "text/plain": [
       "object_id                              int64\n",
       "creation_time                 datetime64[ns]\n",
       "name                                  object\n",
       "email                                 object\n",
       "creation_source                       object\n",
       "last_session_creation_time            object\n",
       "opted_in_to_mailing_list               int64\n",
       "enabled_for_marketing_drip             int64\n",
       "org_id                                 int64\n",
       "invited_by_user_id                   float64\n",
       "dtype: object"
      ]
     },
     "execution_count": 43,
     "metadata": {},
     "output_type": "execute_result"
    }
   ],
   "source": [
    "parse_dates = ['creation_time',\n",
    " 'last_session_creation_time',]\n",
    "\n",
    "users = pd.read_csv('./takehome_users.csv', sep=';',encoding='latin-1',parse_dates=parse_dates)\n"
   ]
  },
  {
   "cell_type": "code",
   "execution_count": 4,
   "id": "72c73c31",
   "metadata": {},
   "outputs": [],
   "source": [
    "userEngagement['time_stamp'] = pd.to_datetime(userEngagement['time_stamp'])"
   ]
  },
  {
   "cell_type": "code",
   "execution_count": 5,
   "id": "d6405311",
   "metadata": {},
   "outputs": [],
   "source": [
    "userEngagementSub = userEngagement[userEngagement.columns]"
   ]
  },
  {
   "cell_type": "code",
   "execution_count": 67,
   "id": "19d446f1",
   "metadata": {},
   "outputs": [
    {
     "data": {
      "text/html": [
       "<div>\n",
       "<style scoped>\n",
       "    .dataframe tbody tr th:only-of-type {\n",
       "        vertical-align: middle;\n",
       "    }\n",
       "\n",
       "    .dataframe tbody tr th {\n",
       "        vertical-align: top;\n",
       "    }\n",
       "\n",
       "    .dataframe thead th {\n",
       "        text-align: right;\n",
       "    }\n",
       "</style>\n",
       "<table border=\"1\" class=\"dataframe\">\n",
       "  <thead>\n",
       "    <tr style=\"text-align: right;\">\n",
       "      <th></th>\n",
       "      <th>user_id</th>\n",
       "      <th>Adopted</th>\n",
       "      <th>WasInvited</th>\n",
       "      <th>NumberInvited</th>\n",
       "    </tr>\n",
       "  </thead>\n",
       "  <tbody>\n",
       "    <tr>\n",
       "      <th>0</th>\n",
       "      <td>1</td>\n",
       "      <td>False</td>\n",
       "      <td>False</td>\n",
       "      <td>0</td>\n",
       "    </tr>\n",
       "    <tr>\n",
       "      <th>1</th>\n",
       "      <td>2</td>\n",
       "      <td>True</td>\n",
       "      <td>False</td>\n",
       "      <td>0</td>\n",
       "    </tr>\n",
       "    <tr>\n",
       "      <th>2</th>\n",
       "      <td>3</td>\n",
       "      <td>False</td>\n",
       "      <td>False</td>\n",
       "      <td>1</td>\n",
       "    </tr>\n",
       "    <tr>\n",
       "      <th>3</th>\n",
       "      <td>4</td>\n",
       "      <td>False</td>\n",
       "      <td>False</td>\n",
       "      <td>0</td>\n",
       "    </tr>\n",
       "    <tr>\n",
       "      <th>4</th>\n",
       "      <td>5</td>\n",
       "      <td>False</td>\n",
       "      <td>False</td>\n",
       "      <td>0</td>\n",
       "    </tr>\n",
       "    <tr>\n",
       "      <th>5</th>\n",
       "      <td>6</td>\n",
       "      <td>False</td>\n",
       "      <td>False</td>\n",
       "      <td>0</td>\n",
       "    </tr>\n",
       "    <tr>\n",
       "      <th>6</th>\n",
       "      <td>7</td>\n",
       "      <td>False</td>\n",
       "      <td>False</td>\n",
       "      <td>5</td>\n",
       "    </tr>\n",
       "    <tr>\n",
       "      <th>7</th>\n",
       "      <td>10</td>\n",
       "      <td>True</td>\n",
       "      <td>False</td>\n",
       "      <td>1</td>\n",
       "    </tr>\n",
       "    <tr>\n",
       "      <th>8</th>\n",
       "      <td>11</td>\n",
       "      <td>False</td>\n",
       "      <td>False</td>\n",
       "      <td>0</td>\n",
       "    </tr>\n",
       "    <tr>\n",
       "      <th>9</th>\n",
       "      <td>13</td>\n",
       "      <td>False</td>\n",
       "      <td>False</td>\n",
       "      <td>0</td>\n",
       "    </tr>\n",
       "  </tbody>\n",
       "</table>\n",
       "</div>"
      ],
      "text/plain": [
       "   user_id  Adopted  WasInvited  NumberInvited\n",
       "0        1    False       False              0\n",
       "1        2     True       False              0\n",
       "2        3    False       False              1\n",
       "3        4    False       False              0\n",
       "4        5    False       False              0\n",
       "5        6    False       False              0\n",
       "6        7    False       False              5\n",
       "7       10     True       False              1\n",
       "8       11    False       False              0\n",
       "9       13    False       False              0"
      ]
     },
     "execution_count": 67,
     "metadata": {},
     "output_type": "execute_result"
    }
   ],
   "source": [
    "userFeatureEngineering = []\n",
    "\n",
    "for x in userEngagement.user_id.unique():\n",
    "    sub = userEngagementSub[userEngagementSub.user_id == x]\n",
    "    sub = sub.sort_values(by='time_stamp')\n",
    "    \n",
    "    userAdopted = False\n",
    "    for window in sub.time_stamp.rolling(window=3):\n",
    "        if(len(window)<3):\n",
    "            continue\n",
    "        \n",
    "        if (window >=(window.iloc[-1]- pd.Timedelta(days=7))).all():\n",
    "            userAdopted = True\n",
    "            break\n",
    "    \n",
    "    userdata = users[users.object_id == x]\n",
    "    wasInvited = userdata.iloc[0].invited_by_user_id == np.nan\n",
    "    hasInvited = sum(users.invited_by_user_id == x)\n",
    "    \n",
    "    userFeatureEngineering.append({'user_id':x,'Adopted':userAdopted,'WasInvited':wasInvited,'NumberInvited':hasInvited})\n",
    "    \n",
    "Adopted = pd.DataFrame(userFeatureEngineering)\n",
    "Adopted.head(10)"
   ]
  },
  {
   "cell_type": "code",
   "execution_count": 48,
   "id": "cd539e77",
   "metadata": {},
   "outputs": [],
   "source": [
    "import warnings\n",
    "warnings.filterwarnings('ignore')\n",
    "\n",
    "usersSub = users[['object_id', 'creation_time', 'creation_source','last_session_creation_time']]\n",
    "usersSub['mailing_option'] = users.opted_in_to_mailing_list == 1\n",
    "usersSub['marketing_drip'] = users.enabled_for_marketing_drip == 1"
   ]
  },
  {
   "cell_type": "code",
   "execution_count": 49,
   "id": "d0987bd7",
   "metadata": {},
   "outputs": [
    {
     "data": {
      "text/plain": [
       "object_id                        0\n",
       "creation_time                    0\n",
       "name                             0\n",
       "email                            0\n",
       "creation_source                  0\n",
       "last_session_creation_time    3177\n",
       "opted_in_to_mailing_list         0\n",
       "enabled_for_marketing_drip       0\n",
       "org_id                           0\n",
       "invited_by_user_id            5583\n",
       "dtype: int64"
      ]
     },
     "execution_count": 49,
     "metadata": {},
     "output_type": "execute_result"
    }
   ],
   "source": [
    "users.isna().sum()"
   ]
  },
  {
   "cell_type": "code",
   "execution_count": 92,
   "id": "3d3311ff",
   "metadata": {},
   "outputs": [],
   "source": [
    "x = users[~users.last_session_creation_time.isna()].last_session_creation_time\n",
    "\n",
    "users.loc[pd.Series(~users.last_session_creation_time.isna().values), 'last_session_creation_time'] = [datetime.fromtimestamp(int(y)) for y in x]\n"
   ]
  },
  {
   "cell_type": "raw",
   "id": "32fe58d5",
   "metadata": {},
   "source": []
  }
 ],
 "metadata": {
  "kernelspec": {
   "display_name": "Python 3 (ipykernel)",
   "language": "python",
   "name": "python3"
  },
  "language_info": {
   "codemirror_mode": {
    "name": "ipython",
    "version": 3
   },
   "file_extension": ".py",
   "mimetype": "text/x-python",
   "name": "python",
   "nbconvert_exporter": "python",
   "pygments_lexer": "ipython3",
   "version": "3.9.7"
  }
 },
 "nbformat": 4,
 "nbformat_minor": 5
}
